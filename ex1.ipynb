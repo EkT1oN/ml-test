{
 "metadata": {
  "language_info": {
   "codemirror_mode": {
    "name": "ipython",
    "version": 3
   },
   "file_extension": ".py",
   "mimetype": "text/x-python",
   "name": "python",
   "nbconvert_exporter": "python",
   "pygments_lexer": "ipython3",
   "version": "3.8.9"
  },
  "orig_nbformat": 2,
  "kernelspec": {
   "name": "pythonjvsc74a57bd036755648064b684068ae15d44317a108222b5143f97d021773f970924731903c",
   "display_name": "Python 3.8.10 64-bit ('venv': venv)"
  },
  "metadata": {
   "interpreter": {
    "hash": "36755648064b684068ae15d44317a108222b5143f97d021773f970924731903c"
   }
  }
 },
 "nbformat": 4,
 "nbformat_minor": 2,
 "cells": [
  {
   "cell_type": "code",
   "execution_count": null,
   "metadata": {},
   "outputs": [],
   "source": [
    "import numpy as np\n",
    "import pandas as pd\n",
    "\n",
    "import matplotlib.pyplot as plt\n",
    "import matplotlib.image as mpimg\n",
    "\n",
    "import keras\n",
    "from keras.applications import imagenet_utils\n",
    "from keras.applications import MobileNet\n",
    "from keras.applications.mobilenet import preprocess_input\n",
    "from keras.models import Model\n",
    "from keras.layers import Dense,GlobalAveragePooling2D\n",
    "from keras.preprocessing import image\n",
    "from keras.preprocessing.image import ImageDataGenerator\n",
    "\n",
    "from IPython.display import Image\n",
    "\n",
    "import pathlib\n",
    "from pathlib import Path"
   ]
  },
  {
   "cell_type": "code",
   "execution_count": null,
   "metadata": {},
   "outputs": [],
   "source": [
    "mobile = keras.applications.mobilenet.MobileNet()"
   ]
  },
  {
   "cell_type": "code",
   "execution_count": null,
   "metadata": {},
   "outputs": [],
   "source": [
    "def prepare_image(file):\n",
    "    img_path = ''\n",
    "    img = image.load_img(img_path + file, target_size = (224, 224))\n",
    "    img_array = image.img_to_array(img)\n",
    "    img_array_expanded_dims = np.expand_dims(img_array, axis = 0)\n",
    "    return keras.applications.mobilenet.preprocess_input(img_array_expanded_dims)"
   ]
  },
  {
   "cell_type": "code",
   "execution_count": null,
   "metadata": {},
   "outputs": [],
   "source": [
    "def calculate_prediction(file_image):\n",
    "    img = mpimg.imread(file_image)\n",
    "    preprocessed_image = prepare_image(file_image)\n",
    "    predictions = mobile.predict(preprocessed_image)\n",
    "    results = imagenet_utils.decode_predictions(predictions)\n",
    "    return results, img"
   ]
  },
  {
   "cell_type": "code",
   "execution_count": null,
   "metadata": {},
   "outputs": [],
   "source": [
    "borzoi = 'data/archive/images/15-n02090622-borzoi/train/n02090622_10281.jpg'\n",
    "chihuahua = 'data/archive/images/50-n02085620-Chihuahua/train/n02085620_10131.jpg'\n",
    "german_shepherd = 'data/archive/images/100-n02106662-German_shepherd/train/n02106662_10338.jpg'\n",
    "dog_list = [borzoi, chihuahua, german_shepherd]"
   ]
  },
  {
   "cell_type": "code",
   "execution_count": null,
   "metadata": {},
   "outputs": [],
   "source": [
    "for elem in dog_list:\n",
    "    print(elem)\n",
    "    res, img = calculate_prediction(elem)\n",
    "    imgplot = plt.imshow(img)\n",
    "    plt.show()\n",
    "    # print(res)\n",
    "    for row in res:\n",
    "        for col in row:\n",
    "            print(col)\n"
   ]
  },
  {
   "source": [
    "### Setup neural network"
   ],
   "cell_type": "markdown",
   "metadata": {}
  },
  {
   "cell_type": "code",
   "execution_count": null,
   "metadata": {},
   "outputs": [],
   "source": [
    "base_model = MobileNet(weights = 'imagenet', include_top = False) # imports the mobilenet model and discards the last 1000 neuron layer.\n",
    "x = base_model.output\n",
    "x = GlobalAveragePooling2D()(x)\n",
    "# add dense layers so that the model can learn more complex functions and classify for better results\n",
    "x = Dense(1024, activation = 'relu')(x)\n",
    "# dense layer 2\n",
    "x = Dense(1024, activation = 'relu')(x)\n",
    "# dense layer 3\n",
    "x = Dense(512, activation = 'relu')(x)\n",
    "# final layer with softmax activation\n",
    "preds = Dense(2, activation = 'softmax')(x)"
   ]
  },
  {
   "source": [
    "### 15 img for train"
   ],
   "cell_type": "markdown",
   "metadata": {}
  },
  {
   "cell_type": "code",
   "execution_count": null,
   "metadata": {},
   "outputs": [],
   "source": [
    "model_15 = Model(inputs = base_model.input, outputs = preds)\n",
    "\n",
    "for layer in model_15.layers:\n",
    "    layer.trainable = False\n",
    "for layer in model_15.layers[:20]:\n",
    "    layer.trainable = False\n",
    "for layer in model_15.layers[20:]:\n",
    "    layer.trainable = True"
   ]
  },
  {
   "cell_type": "code",
   "execution_count": null,
   "metadata": {},
   "outputs": [],
   "source": [
    "train_datagen = ImageDataGenerator(preprocessing_function = preprocess_input)\n",
    "\n",
    "train_generator = train_datagen.flow_from_directory(\n",
    "    'data/archive/images/15-n02090622-borzoi/', \n",
    "    target_size=(224,224),\n",
    "    color_mode='rgb',\n",
    "    batch_size=32,\n",
    "    class_mode='categorical',\n",
    "    shuffle=True)"
   ]
  },
  {
   "cell_type": "code",
   "execution_count": null,
   "metadata": {},
   "outputs": [],
   "source": [
    "model_15.compile(optimizer = 'Adam', loss = 'categorical_crossentropy', metrics = ['accuracy'])\n",
    "\n",
    "step_size_train = train_generator.n//train_generator.batch_size\n",
    "model_15.fit_generator(generator = train_generator, steps_per_epoch = step_size_train, epochs = 8, verbose = 2)"
   ]
  },
  {
   "source": [
    "### 50 img for train"
   ],
   "cell_type": "markdown",
   "metadata": {}
  },
  {
   "cell_type": "code",
   "execution_count": null,
   "metadata": {},
   "outputs": [],
   "source": [
    "model_50 = Model(inputs = base_model.input, outputs = preds)\n",
    "\n",
    "for layer in model_50.layers:\n",
    "    layer.trainable = False\n",
    "for layer in model_50.layers[:20]:\n",
    "    layer.trainable = False\n",
    "for layer in model_50.layers[20:]:\n",
    "    layer.trainable = True"
   ]
  },
  {
   "cell_type": "code",
   "execution_count": null,
   "metadata": {},
   "outputs": [],
   "source": [
    "train_datagen = ImageDataGenerator(preprocessing_function = preprocess_input) # included in our dependencies\n",
    "\n",
    "train_generator = train_datagen.flow_from_directory(\n",
    "    'data/archive/images/50-n02085620-Chihuahua/', \n",
    "    target_size=(224,224), \n",
    "    color_mode='rgb', \n",
    "    batch_size=32, \n",
    "    class_mode='categorical', \n",
    "    shuffle=True)"
   ]
  },
  {
   "cell_type": "code",
   "execution_count": null,
   "metadata": {},
   "outputs": [],
   "source": [
    "model_50.compile(optimizer = 'Adam', loss = 'categorical_crossentropy', metrics = ['accuracy'])\n",
    "\n",
    "step_size_train = train_generator.n//train_generator.batch_size\n",
    "model_50.fit_generator(generator = train_generator, steps_per_epoch = step_size_train, epochs = 8, verbose = 2)"
   ]
  },
  {
   "source": [
    "### 100 img for train"
   ],
   "cell_type": "markdown",
   "metadata": {}
  },
  {
   "cell_type": "code",
   "execution_count": null,
   "metadata": {},
   "outputs": [],
   "source": [
    "model_100 = Model(inputs = base_model.input, outputs = preds)\n",
    "\n",
    "for layer in model_100.layers:\n",
    "    layer.trainable = False\n",
    "for layer in model_100.layers[:20]:\n",
    "    layer.trainable = False\n",
    "for layer in model_100.layers[20:]:\n",
    "    layer.trainable = True"
   ]
  },
  {
   "cell_type": "code",
   "execution_count": null,
   "metadata": {},
   "outputs": [],
   "source": [
    "train_datagen = ImageDataGenerator(preprocessing_function = preprocess_input) # included in our dependencies\n",
    "\n",
    "train_generator = train_datagen.flow_from_directory(\n",
    "    'data/archive/images/100-n02106662-German_shepherd/', \n",
    "    target_size = (224,224), \n",
    "    color_mode = 'rgb', \n",
    "    batch_size = 32, \n",
    "    class_mode = 'categorical', \n",
    "    shuffle = True)"
   ]
  },
  {
   "cell_type": "code",
   "execution_count": null,
   "metadata": {},
   "outputs": [],
   "source": [
    "model_100.compile(optimizer = 'Adam', loss = 'categorical_crossentropy', metrics = ['accuracy'])\n",
    "\n",
    "step_size_train = train_generator.n//train_generator.batch_size\n",
    "model_100.fit_generator(generator = train_generator, steps_per_epoch = step_size_train, epochs = 8, verbose = 2)"
   ]
  },
  {
   "source": [
    "## Test"
   ],
   "cell_type": "markdown",
   "metadata": {}
  },
  {
   "cell_type": "code",
   "execution_count": null,
   "metadata": {},
   "outputs": [],
   "source": [
    "# test 15\n",
    "m = {}\n",
    "borzoi_test = \"data/archive/images/15-n02090622-borzoi/test/\"\n",
    "for path in pathlib.Path(borzoi_test).iterdir():\n",
    "    if path.is_file():\n",
    "        # print(path)\n",
    "        new_image = load_image(path)\n",
    "        pred = model_15.predict(new_image)\n",
    "        # print(pred)\n",
    "        m[path] = pred[0]\n",
    "\n",
    "runtime_error = []\n",
    "value_error = []\n",
    "for key, value in m.items():\n",
    "    runtime_error.append(value[0])\n",
    "    value_error.append(value[1])\n",
    "data_15 = {\n",
    "    'Image': list(m.keys()),\n",
    "    'Runtime Error': list(runtime_error),\n",
    "    'Value Error': list(value_error)\n",
    "}\n",
    "df_15 = pd.DataFrame.from_dict(data_15)\n",
    "dfAIC = df_15.sort_values(by=['Runtime Error'])"
   ]
  },
  {
   "cell_type": "code",
   "execution_count": null,
   "metadata": {},
   "outputs": [],
   "source": [
    "# test 50\n",
    "m = {}\n",
    "chihuahua_test = \"data/archive/images/50-n02085620-Chihuahua/test\"\n",
    "for path in pathlib.Path(chihuahua_test).iterdir():\n",
    "    if path.is_file():\n",
    "        # print(path)\n",
    "        new_image = load_image(path)\n",
    "        pred = model_50.predict(new_image)\n",
    "        # print(pred)\n",
    "        m[path] = pred[0]\n",
    "\n",
    "runtime_error = []\n",
    "value_error = []\n",
    "for key, value in m.items():\n",
    "    runtime_error.append(value[0])\n",
    "    value_error.append(value[1])\n",
    "data_50 = {\n",
    "    'Image': list(m.keys()),\n",
    "    'Runtime Error': list(runtime_error),\n",
    "    'Value Error': list(value_error)\n",
    "}\n",
    "df_50 = pd.DataFrame.from_dict(data_50)\n",
    "dfAIC = df_50.sort_values(by=['Runtime Error'])"
   ]
  },
  {
   "cell_type": "code",
   "execution_count": null,
   "metadata": {},
   "outputs": [],
   "source": [
    "# test 100\n",
    "m = {}\n",
    "shepherd_test = \"data/archive/images/100-n02106662-German_shepherd/test/\"\n",
    "for path in pathlib.Path(shepherd_test).iterdir():\n",
    "    if path.is_file():\n",
    "        # print(path)\n",
    "        new_image = load_image(path)\n",
    "        pred = model_100.predict(new_image)\n",
    "        # print(pred)\n",
    "        m[path] = pred[0]\n",
    "\n",
    "runtime_error = []\n",
    "value_error = []\n",
    "for key, value in m.items():\n",
    "    runtime_error.append(value[0])\n",
    "    value_error.append(value[1])\n",
    "data_100 = {\n",
    "    'Image': list(m.keys()),\n",
    "    'Runtime Error': list(runtime_error),\n",
    "    'Value Error': list(value_error)\n",
    "}\n",
    "df_100 = pd.DataFrame.from_dict(data_100)\n",
    "dfAIC = df_100.sort_values(by=['Runtime Error'])"
   ]
  },
  {
   "cell_type": "code",
   "execution_count": null,
   "metadata": {},
   "outputs": [],
   "source": [
    "df_15.head(10)"
   ]
  },
  {
   "cell_type": "code",
   "execution_count": null,
   "metadata": {},
   "outputs": [],
   "source": [
    "df_50.head(10)"
   ]
  },
  {
   "cell_type": "code",
   "execution_count": null,
   "metadata": {},
   "outputs": [],
   "source": [
    "df_100.head(10)"
   ]
  },
  {
   "source": [
    "### function to load image"
   ],
   "cell_type": "markdown",
   "metadata": {}
  },
  {
   "cell_type": "code",
   "execution_count": null,
   "metadata": {},
   "outputs": [],
   "source": [
    "def load_image(img_path):\n",
    "    img = image.load_img(img_path, target_size=(150, 150))\n",
    "    img_tensor = image.img_to_array(img)                    # (height, width, channels)\n",
    "    img_tensor = np.expand_dims(img_tensor, axis=0)         # (1, height, width, channels), add a dimension because the model expects this shape: (batch_size, height, width, channels)\n",
    "    img_tensor /= 255.                                      # imshow expects values in the range [0, 1]\n",
    "    return img_tensor"
   ]
  },
  {
   "cell_type": "code",
   "execution_count": null,
   "metadata": {},
   "outputs": [],
   "source": []
  }
 ]
}